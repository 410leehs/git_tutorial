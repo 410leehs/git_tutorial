{
 "cells": [
  {
   "cell_type": "code",
   "execution_count": 14,
   "metadata": {},
   "outputs": [],
   "source": [
    "import tensorflow as tf"
   ]
  },
  {
   "cell_type": "code",
   "execution_count": 3,
   "metadata": {},
   "outputs": [
    {
     "name": "stdout",
     "output_type": "stream",
     "text": [
      "Tensor(\"add:0\", shape=(1, 2), dtype=float32)\n"
     ]
    }
   ],
   "source": [
    "a= tf.constant(1, dtype=tf.float32)\n",
    "b= tf.constant([1], dtype=tf.float32)\n",
    "c= tf.constant([[1,2]], dtype=tf.float32)\n",
    "d=a*b+c\n",
    "print(d)\n",
    "\n"
   ]
  },
  {
   "cell_type": "markdown",
   "metadata": {},
   "source": [
    "### 텐서플로우의 특징: 갈아끼울수 있다."
   ]
  },
  {
   "cell_type": "code",
   "execution_count": 5,
   "metadata": {},
   "outputs": [
    {
     "name": "stdout",
     "output_type": "stream",
     "text": [
      "x : Tensor(\"Placeholder_1:0\", dtype=float32)\n",
      "y : Tensor(\"mul_3:0\", dtype=float32)\n",
      "[ 2.  4.  6.  8. 10.]\n"
     ]
    }
   ],
   "source": [
    "import tensorflow as tf\n",
    "\n",
    "input_data=[1,2,3,4,5]\n",
    "x=tf.placeholder(dtype=tf.float32)\n",
    "y=x*2\n",
    "\n",
    "print(\"x :\", x)\n",
    "print(\"y :\", y)\n",
    "\n",
    "session=tf.Session()\n",
    "result=session.run(y, feed_dict={x:input_data})\n",
    "print(result)\n",
    "\n",
    "session.close()"
   ]
  },
  {
   "cell_type": "markdown",
   "metadata": {},
   "source": [
    "*변수"
   ]
  },
  {
   "cell_type": "code",
   "execution_count": 8,
   "metadata": {},
   "outputs": [
    {
     "name": "stdout",
     "output_type": "stream",
     "text": [
      "x :  Tensor(\"Placeholder_4:0\", dtype=float32)\n",
      "weights: <tf.Variable 'Variable:0' shape=(1,) dtype=float32_ref>\n",
      "biases <tf.Variable 'Variable_1:0' shape=(1,) dtype=float32_ref>\n"
     ]
    }
   ],
   "source": [
    "x=tf.placeholder(dtype=tf.float32)\n",
    "x_data=[1,2,4]\n",
    "\n",
    "weights=tf.Variable([3], dtype=tf.float32)\n",
    "biases=tf.Variable([4], dtype=tf.float32)\n",
    "\n",
    "y=weights*x+biases\n",
    "\n",
    "print(\"x : \",x)\n",
    "print(\"weights:\",weights)\n",
    "print(\"biases\",biases)"
   ]
  },
  {
   "cell_type": "code",
   "execution_count": 10,
   "metadata": {},
   "outputs": [
    {
     "name": "stdout",
     "output_type": "stream",
     "text": [
      "[ 7. 10. 16.]\n",
      "[ 6.  8. 12.]\n"
     ]
    }
   ],
   "source": [
    "with tf.Session() as session:\n",
    "    #초기화 오퍼레이션\n",
    "    session.run([weights.initializer, biases.initializer])\n",
    "    \n",
    "    result= session.run(y,feed_dict={x:x_data})\n",
    "    print(result)\n",
    "    #변수 변경//재할당\n",
    "    session.run(tf.assign(weights,[2]))\n",
    "    \n",
    "    result=session.run(y,feed_dict={x:x_data})\n",
    "    print(result)"
   ]
  },
  {
   "cell_type": "code",
   "execution_count": 13,
   "metadata": {},
   "outputs": [
    {
     "name": "stdout",
     "output_type": "stream",
     "text": [
      "[ 7. 10. 16.]\n",
      "[5. 6. 8.]\n"
     ]
    }
   ],
   "source": [
    "init_op=tf.global_variables_initializer()\n",
    "\n",
    "with tf.Session() as session:\n",
    "    #초기화 오퍼레이션 불러오시\n",
    "    session.run(init_op)\n",
    "    \n",
    "    result=session.run(y, feed_dict={x:x_data})\n",
    "    print(result)\n",
    "    #변수 변경//재할당\n",
    "    session.run(tf.assign(weights,[1]))\n",
    "    \n",
    "    result=session.run(y,feed_dict={x:x_data})\n",
    "    print(result)\n",
    "    \n",
    "    \n",
    "    "
   ]
  },
  {
   "cell_type": "code",
   "execution_count": null,
   "metadata": {},
   "outputs": [],
   "source": []
  },
  {
   "cell_type": "code",
   "execution_count": null,
   "metadata": {},
   "outputs": [],
   "source": []
  },
  {
   "cell_type": "code",
   "execution_count": null,
   "metadata": {},
   "outputs": [],
   "source": []
  },
  {
   "cell_type": "code",
   "execution_count": null,
   "metadata": {},
   "outputs": [],
   "source": []
  },
  {
   "cell_type": "code",
   "execution_count": null,
   "metadata": {},
   "outputs": [],
   "source": []
  },
  {
   "cell_type": "code",
   "execution_count": null,
   "metadata": {},
   "outputs": [],
   "source": []
  },
  {
   "cell_type": "code",
   "execution_count": null,
   "metadata": {},
   "outputs": [],
   "source": []
  },
  {
   "cell_type": "code",
   "execution_count": null,
   "metadata": {},
   "outputs": [],
   "source": []
  },
  {
   "cell_type": "code",
   "execution_count": null,
   "metadata": {},
   "outputs": [],
   "source": []
  },
  {
   "cell_type": "code",
   "execution_count": null,
   "metadata": {},
   "outputs": [],
   "source": []
  }
 ],
 "metadata": {
  "kernelspec": {
   "display_name": "Python 3",
   "language": "python",
   "name": "python3"
  },
  "language_info": {
   "codemirror_mode": {
    "name": "ipython",
    "version": 3
   },
   "file_extension": ".py",
   "mimetype": "text/x-python",
   "name": "python",
   "nbconvert_exporter": "python",
   "pygments_lexer": "ipython3",
   "version": "3.7.3"
  }
 },
 "nbformat": 4,
 "nbformat_minor": 2
}
